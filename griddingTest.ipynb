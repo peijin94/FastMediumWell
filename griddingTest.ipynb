{
 "cells": [
  {
   "cell_type": "code",
   "execution_count": 4,
   "metadata": {},
   "outputs": [],
   "source": [
    "import cupy\n",
    "import numpy as np\n",
    "from matplotlib import pyplot as plt\n",
    "import os"
   ]
  },
  {
   "cell_type": "code",
   "execution_count": 3,
   "metadata": {},
   "outputs": [],
   "source": [
    "datanpz = np.load('data/uvw_stokesI.npz')\n",
    "\n",
    "# uvw = uvw, scan=scan, flag_I=flag_I, stokes_I=stokes_I\n",
    "uwv = datanpz['uvw']\n",
    "scan = datanpz['scan']\n",
    "flag_I = datanpz['flag_I']\n",
    "stokes_I = datanpz['stokes_I']\n",
    "\n"
   ]
  },
  {
   "cell_type": "code",
   "execution_count": 22,
   "metadata": {},
   "outputs": [],
   "source": [
    "\n",
    "\n",
    "src = 'src/funcGridding.cu'\n",
    "\n",
    "dir_src = os.path.dirname(os.path.realpath(src))\n",
    "\n",
    "griddingFuncSrc = open(src, 'rt')\n",
    "\n",
    "griddingSimple = cupy.RawModule(code=griddingFuncSrc.read(), backend='nvcc',options=(\"-I \"+dir_src,))\n",
    "griddingFun = griddingSimple.get_function(\"SimpleGridding\")"
   ]
  },
  {
   "cell_type": "code",
   "execution_count": 17,
   "metadata": {},
   "outputs": [
    {
     "data": {
      "text/plain": [
       "'src'"
      ]
     },
     "execution_count": 17,
     "metadata": {},
     "output_type": "execute_result"
    }
   ],
   "source": []
  },
  {
   "cell_type": "code",
   "execution_count": null,
   "metadata": {},
   "outputs": [],
   "source": []
  }
 ],
 "metadata": {
  "kernelspec": {
   "display_name": "Python 3",
   "language": "python",
   "name": "python3"
  },
  "language_info": {
   "codemirror_mode": {
    "name": "ipython",
    "version": 3
   },
   "file_extension": ".py",
   "mimetype": "text/x-python",
   "name": "python",
   "nbconvert_exporter": "python",
   "pygments_lexer": "ipython3",
   "version": "3.8.18"
  }
 },
 "nbformat": 4,
 "nbformat_minor": 2
}
